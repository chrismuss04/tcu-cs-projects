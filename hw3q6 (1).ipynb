{
 "cells": [
  {
   "cell_type": "code",
   "execution_count": 20,
   "id": "e7d4dbc8-3f39-47c9-80dc-dcd947922f3f",
   "metadata": {},
   "outputs": [
    {
     "name": "stdout",
     "output_type": "stream",
     "text": [
      "Bob\n",
      "Charlie\n",
      "False\n",
      "Alice\n",
      "David\n",
      "True\n"
     ]
    }
   ],
   "source": [
    "import heapq\n",
    "import itertools\n",
    "\n",
    "class EmergencyRoom:\n",
    "    \n",
    "    #create an empty priq for the triage and a counter \n",
    "    def __init__(self):\n",
    "        self.triagePriq = []\n",
    "        self.counter = itertools.count()\n",
    "\n",
    "    #add a patient with name and severity level to the priq\n",
    "    def add_patient(self, name: str, severity: int):\n",
    "        #get arrival time\n",
    "        arriv = next(self.counter)\n",
    "        \n",
    "        #create patient to be added\n",
    "        patient = [-severity, arriv, name]\n",
    "        \n",
    "        #push patient onto the priq based on severity level\n",
    "        heapq.heappush(self.triagePriq, patient)\n",
    "\n",
    "        #heapify the priq so patient is placed in correct pos\n",
    "        heapq.heapify(self.triagePriq)\n",
    "\n",
    "    #pop the highest priority patient from the priq\n",
    "    def treat_next(self) -> str:\n",
    "        #get inverted severity(minheap) and name from the popped entry\n",
    "        invSeverity, arriv, name = heapq.heappop(self.triagePriq)\n",
    "\n",
    "        #heapify the priq so next priority patient is put at front of queue\n",
    "        heapq.heapify(self.triagePriq)\n",
    "\n",
    "        #return name of patient to be treated next\n",
    "        return name\n",
    "\n",
    "    def is_empty(self) -> bool:\n",
    "        #if len(triagePriq)==0, will return true, else false\n",
    "        return len(self.triagePriq)==0\n",
    "\n",
    "\n",
    "    \n",
    "#-------------------TEST-------------------#\n",
    "er = EmergencyRoom()\n",
    "er.add_patient(\"Alice\", 5)\n",
    "er.add_patient(\"Bob\", 8)\n",
    "er.add_patient(\"Charlie\", 8)\n",
    "er.add_patient(\"David\", 3)\n",
    "print(er.treat_next()) # Output: \"Bob\" (highest severity)\n",
    "print(er.treat_next()) # Output: \"Charlie\" (same severity as Bob, but arrived late\n",
    "print(er.is_empty()) # Output: False\n",
    "print(er.treat_next()) # Output: \"Alice\"\n",
    "print(er.treat_next()) # Output: \"David\"\n",
    "print(er.is_empty()) # Output: True"
   ]
  },
  {
   "cell_type": "code",
   "execution_count": null,
   "id": "8eb75dd0-964c-4fb1-a1ae-b22b498bd4e3",
   "metadata": {},
   "outputs": [],
   "source": []
  }
 ],
 "metadata": {
  "kernelspec": {
   "display_name": "Python 3 (ipykernel)",
   "language": "python",
   "name": "python3"
  },
  "language_info": {
   "codemirror_mode": {
    "name": "ipython",
    "version": 3
   },
   "file_extension": ".py",
   "mimetype": "text/x-python",
   "name": "python",
   "nbconvert_exporter": "python",
   "pygments_lexer": "ipython3",
   "version": "3.12.4"
  }
 },
 "nbformat": 4,
 "nbformat_minor": 5
}
